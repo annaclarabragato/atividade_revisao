{
  "nbformat": 4,
  "nbformat_minor": 0,
  "metadata": {
    "colab": {
      "provenance": [],
      "authorship_tag": "ABX9TyPgZRTV9iv/c2ioVDR7d4l1",
      "include_colab_link": true
    },
    "kernelspec": {
      "name": "python3",
      "display_name": "Python 3"
    },
    "language_info": {
      "name": "python"
    }
  },
  "cells": [
    {
      "cell_type": "markdown",
      "metadata": {
        "id": "view-in-github",
        "colab_type": "text"
      },
      "source": [
        "<a href=\"https://colab.research.google.com/github/annaclarabragato/atividade_revisao/blob/main/atividade_revisao.ipynb\" target=\"_parent\"><img src=\"https://colab.research.google.com/assets/colab-badge.svg\" alt=\"Open In Colab\"/></a>"
      ]
    },
    {
      "cell_type": "markdown",
      "source": [
        "## **Primeira Parte: Análise Conceitual do Python**\n",
        "## **01-)** Em quais áreas (dentro de sistemas de informação) o Python é menos frequente ou praticamente ausente?"
      ],
      "metadata": {
        "id": "KxK6e8T-an6u"
      }
    },
    {
      "cell_type": "markdown",
      "source": [
        "> o python é menos frequente ou praticamente ausente em programações de baixo nível, se alguém quiser implementar um driver ou mecanismo gráfico extremamente eficaz, não será usado Python;\n",
        "\n",
        "> e também em aplicativos para dispositivos móveis, embora esse território ainda esteja esperando para ser conquistado pelo Python, provavelmente acontecerá algum dia."
      ],
      "metadata": {
        "id": "Pwi4hCdBa8DS"
      }
    },
    {
      "cell_type": "markdown",
      "source": [
        "## **02-)** Existem dois tipos principais de Python, chamados Python 2 e Python 3. Especifique cada um. E por que essas duas versões são incompátiveis entre si."
      ],
      "metadata": {
        "id": "IjaZoIbPby_d"
      }
    },
    {
      "cell_type": "markdown",
      "source": [
        "> python 2 é uma versão mais antiga, com o desenvolvimento intencionalmente interrompido, mas ainda com atualizações para ele, tais quais são emitidas regularmente, mas não é pretendido modificar a linguagem de forma significativa. é preferível corrigir bugs e falhas de segurança recém descobertos. python 2 ainda está vivo.\n",
        "\n",
        "> python 3 é a versão mais recente da linguagem, está seguindo seu próprio caminho evolutivo, criando seus próprios padrões e hábitos.\n",
        "\n",
        "> essas duas versões do Python não são compatíveis entre si. Os scripts Python 2 não serão executados em um ambiente Python 3 e vice-versa. Se você quiser que o código Python 2 antigo seja executado por um intérprete Python 3, a única solução possível é reescrevê-lo, não do zero, é claro, pois grandes partes do código podem permanecer intocadas, mas você precisa revisar todo o código para encontrar todas as incompatibilidades possíveis."
      ],
      "metadata": {
        "id": "H4eHsI3FcLqO"
      }
    },
    {
      "cell_type": "markdown",
      "source": [
        "## **03-)** O Python é uma linguagem de programação interpretada ou compilada? Como funcionam as linguagens interpretada e compilada ?Quais as diferenças entre essas linguagens?"
      ],
      "metadata": {
        "id": "WpD1j1iTdwG3"
      }
    },
    {
      "cell_type": "markdown",
      "source": [
        "> python é uma linguagem interpretada.\n",
        "\n",
        "> compilação: o programa de origem é convertido uma vez, porém isso deve ser repetido toda vez que for modificado o código-fonte, ao obter um arquivo contendo a máquina código. Agora é possível distribuir o arquivo em todo o mundo, o programa que executa essa conversão é chamado de **compilador** ou **traduzir**.\n",
        "\n",
        "> interpretação: é possível traduzir o programa de origem toda vez que ele tiver que ser executado. O programa que executa esse tipo de transformação é chamado de **interpretador**, pois interpreta o código toda vez que se destina a ser executado. Isso também significa que você não pode apenas distribuir o código-fonte como está, porque o usuário final também precisa que o intérprete o execute."
      ],
      "metadata": {
        "id": "Wp7WPmjUeEb-"
      }
    },
    {
      "cell_type": "markdown",
      "source": [
        "## **04-)** O que é uma Sintaxe no contexto de linguagem de programação? Descreva a Sintaxe do Python."
      ],
      "metadata": {
        "id": "XAkwrHEsgZDO"
      }
    },
    {
      "cell_type": "markdown",
      "source": [
        "> to contexto de programação, em sintaxe, cada idioma tem suas regras e elas devem ser obedecidas.\n",
        "\n",
        "> a sintaxe da linguagem de programação Python é o conjunto de regras que define como um programa Python será escrito e interpretado (tanto pelo sistema de execução quanto por leitores humanos). tem uma sintaxe que se aproxima da nossa linguagem escrita e se distancia bastante da linguagem de máquina."
      ],
      "metadata": {
        "id": "2Tp-hy7GgjQr"
      }
    },
    {
      "cell_type": "markdown",
      "source": [
        "## **05-)** O que é uma Semântica no contexto de linguagem de programação? Descreva a Semântica do Python."
      ],
      "metadata": {
        "id": "WYj89hpEjPxm"
      }
    },
    {
      "cell_type": "markdown",
      "source": [
        "> no contexto de programação, semanticamente o programa tem que fazer sentido.\n",
        "\n",
        "> com semântica dinâmica, interpretada, multiplataforma e orientada a objetos."
      ],
      "metadata": {
        "id": "hGIWRwxejUGo"
      }
    },
    {
      "cell_type": "markdown",
      "source": [
        "## **06-)** O que é Orientação a Objetos (OOP)?"
      ],
      "metadata": {
        "id": "bj7QUwgVkODB"
      }
    },
    {
      "cell_type": "markdown",
      "source": [
        "> é um paradigma de programação baseado no conceito de \"objetos\", que podem conter dados na forma de campos, também conhecidos como atributos, e códigos, na forma de procedimentos, também conhecidos como métodos."
      ],
      "metadata": {
        "id": "Iwli_sjNked1"
      }
    },
    {
      "cell_type": "markdown",
      "source": [
        "## **07-)** Por que se fala que Python é uma Linguagem naturalmente Orientada a Objetos (OOP)?"
      ],
      "metadata": {
        "id": "MFfCib0UmSpN"
      }
    },
    {
      "cell_type": "markdown",
      "source": [
        "> python já nasceu sendo uma linguagem de programação multi-paradigma, isto é: é possível programar em Python de maneira imperativa, guncional e também utilizando conceitos da POO."
      ],
      "metadata": {
        "id": "bPHIEYbvm2_7"
      }
    },
    {
      "cell_type": "markdown",
      "source": [
        "## **Segunda Parte: Sintaxe**\n",
        "\n",
        "## **08-)** Python adora Funções (def), exemplo:"
      ],
      "metadata": {
        "id": "ppZWF6ZKqs0z"
      }
    },
    {
      "cell_type": "markdown",
      "source": [
        "## Agora crie uma função para calcular a área de uma esfera (se baseie na função acima):\n",
        "\n",
        "## A fórmula é: A = 4 . π . r²"
      ],
      "metadata": {
        "id": "6q8sLGFlrJlO"
      }
    },
    {
      "cell_type": "code",
      "source": [
        "def calcula_area_esfera(pi, raio):\n",
        "     area = (4 * pi * raio**2)\n",
        "     return area\n",
        "pi = 3.14\n",
        "raio = 7\n",
        "resultado = calcula_area_esfera(pi, raio)"
      ],
      "metadata": {
        "id": "U-wuySeJrPWo"
      },
      "execution_count": 31,
      "outputs": []
    },
    {
      "cell_type": "code",
      "source": [
        "print(f\"A área de uma esfera com pi {pi} e raio {raio} é {resultado}\")"
      ],
      "metadata": {
        "colab": {
          "base_uri": "https://localhost:8080/"
        },
        "id": "TOtwW0FIttBF",
        "outputId": "eeaae2f1-d887-4a4f-9a23-58e72955911d"
      },
      "execution_count": 32,
      "outputs": [
        {
          "output_type": "stream",
          "name": "stdout",
          "text": [
            "A área de uma esfera com pi 3.14 e raio 7 é 615.44\n"
          ]
        }
      ]
    },
    {
      "cell_type": "markdown",
      "source": [
        "## **09-)** Listas em Python são objetos mutáveis, o que significa que seus elementos podem ser modificados depois que a lista é criada. Exemplo:"
      ],
      "metadata": {
        "id": "OCcLe2djxrKf"
      }
    },
    {
      "cell_type": "markdown",
      "source": [
        "## **Crie uma função para adicionar três frutas na lista a seguir:**"
      ],
      "metadata": {
        "id": "h_Dd_eSayB78"
      }
    },
    {
      "cell_type": "markdown",
      "source": [
        "### list = [abacate, laranja]\n",
        "### Utilize: def adicionar_frutas(lista, fruta1, fruta2, fruta3)\n",
        "### Obs: A lista também deve ser passada como parâmetro"
      ],
      "metadata": {
        "id": "Z_YNoFGp26rf"
      }
    },
    {
      "cell_type": "code",
      "source": [
        "def adicionar_frutas (lista, fruta1, fruta2, fruta3):\n",
        "   lista.append(fruta1)\n",
        "   lista.append(fruta2)\n",
        "   lista.append(fruta3)\n",
        "   return lista\n",
        "\n",
        "frutas = ['laranja', 'abacate']\n",
        "adicionar = adicionar_frutas(frutas, 'mamão', 'banana', 'morango')\n"
      ],
      "metadata": {
        "id": "EnXV0Zpi2D73"
      },
      "execution_count": 33,
      "outputs": []
    },
    {
      "cell_type": "code",
      "source": [
        "print(frutas)"
      ],
      "metadata": {
        "colab": {
          "base_uri": "https://localhost:8080/"
        },
        "id": "79Ph3npV21Tc",
        "outputId": "44b52212-5c5b-4ac5-a6e9-63d055a2403d"
      },
      "execution_count": 34,
      "outputs": [
        {
          "output_type": "stream",
          "name": "stdout",
          "text": [
            "['laranja', 'abacate', 'mamão', 'banana', 'morango']\n"
          ]
        }
      ]
    },
    {
      "cell_type": "markdown",
      "source": [
        "## **10-)** Sobre o For, a sintaxe básica é:"
      ],
      "metadata": {
        "id": "yPk9bOC01pL9"
      }
    },
    {
      "cell_type": "markdown",
      "source": [
        "## **Crie um pequeno programa utilizando for para incluir todos os elementos de uma lista em outra:**"
      ],
      "metadata": {
        "id": "QZZmxh4u3awW"
      }
    },
    {
      "cell_type": "code",
      "source": [
        "frutas = ['maçã', 'banana', 'laranja', 'abacaxi'] \n",
        "frutas2 = ['Limão', 'Abacate', 'Pequi']\n",
        "\n",
        "for frutas in frutas+frutas2:\n",
        "    print (frutas)"
      ],
      "metadata": {
        "colab": {
          "base_uri": "https://localhost:8080/"
        },
        "id": "umJlEzbm4HJn",
        "outputId": "746fa5db-e6af-42f5-f09a-b523bc8c70df"
      },
      "execution_count": 35,
      "outputs": [
        {
          "output_type": "stream",
          "name": "stdout",
          "text": [
            "maçã\n",
            "banana\n",
            "laranja\n",
            "abacaxi\n",
            "Limão\n",
            "Abacate\n",
            "Pequi\n"
          ]
        }
      ]
    },
    {
      "cell_type": "markdown",
      "source": [
        "## **11-)** Exemplo de uso de Dicionário no Python:"
      ],
      "metadata": {
        "id": "145zIvcK5jIN"
      }
    },
    {
      "cell_type": "markdown",
      "source": [
        "## **O dicionário é uma estrutura de dados em Python que permite armazenar valores associados a chaves. Veja o algoritmo a seguir e complete o que se pede:**"
      ],
      "metadata": {
        "id": "jj3GxGVK5ro8"
      }
    },
    {
      "cell_type": "code",
      "source": [
        "# Criando um dicionário\n",
        "pessoa = {\n",
        "    \"nome\": \"João\",\n",
        "    \"idade\": 25,\n",
        "    \"cidade\": \"São Paulo\"\n",
        "}\n",
        "\n",
        "# Acessando valores do dicionário\n",
        "print(\"Nome:\", pessoa[\"nome\"])\n",
        "print(\"Idade:\", pessoa[\"idade\"])\n",
        "print(\"Cidade:\", pessoa[\"cidade\"])\n",
        "\n",
        "# Modificando valores do dicionário\n",
        "pessoa[\"idade\"] = 26\n",
        "pessoa[\"cidade\"] = \"Rio de Janeiro\"\n",
        "\n",
        "# Exibindo o dicionário atualizado\n",
        "print(\"Dicionário atualizado:\", pessoa)\n",
        "\n",
        "\n",
        "# Adicionando um novo elemento ao dicionário\n",
        "pessoa[\"profissão\"] = \"Engenheiro\"\n",
        "\n",
        "# Exibindo o dicionário com o novo elemento\n",
        "print(\"Dicionário com novo elemento:\", pessoa)\n",
        "\n",
        "# Removendo um elemento do dicionário\n",
        "del pessoa[\"cidade\"]\n",
        "\n",
        "# Exibindo o dicionário sem o elemento removido\n",
        "print(\"Dicionário sem elemento removido:\", pessoa)"
      ],
      "metadata": {
        "colab": {
          "base_uri": "https://localhost:8080/"
        },
        "id": "dcks1GcV5nJK",
        "outputId": "bdfef582-bf6e-4cf4-8117-7bf0a3218912"
      },
      "execution_count": 36,
      "outputs": [
        {
          "output_type": "stream",
          "name": "stdout",
          "text": [
            "Nome: João\n",
            "Idade: 25\n",
            "Cidade: São Paulo\n",
            "Dicionário atualizado: {'nome': 'João', 'idade': 26, 'cidade': 'Rio de Janeiro'}\n",
            "Dicionário com novo elemento: {'nome': 'João', 'idade': 26, 'cidade': 'Rio de Janeiro', 'profissão': 'Engenheiro'}\n",
            "Dicionário sem elemento removido: {'nome': 'João', 'idade': 26, 'profissão': 'Engenheiro'}\n"
          ]
        }
      ]
    },
    {
      "cell_type": "code",
      "source": [
        "# Criando um dicionário de estoque de produtos\n",
        "estoque = {\n",
        "    \"produto1\": {\n",
        "        \"nome\": \"Camiseta\",\n",
        "        \"preco\": 29.90,\n",
        "        \"quantidade\": 50\n",
        "    },\n",
        "    \"produto2\": {\n",
        "        \"nome\": \"Calça Jeans\",\n",
        "        \"preco\": 89.90,\n",
        "        \"quantidade\": 20\n",
        "    },\n",
        "    \"produto3\": {\n",
        "        \"nome\": \"Tênis\",\n",
        "        \"preco\": 129.90,\n",
        "        \"quantidade\": 30\n",
        "    }\n",
        "}\n",
        "\n",
        "#Para exibir todo o dicionário:\n",
        "for produto, dados in estoque.items():# estoque.items(), é um método que acessa tanto a chave como o valor\n",
        "    print(f\"{dados['nome']}: Valor - R$ {dados['preco']} - Quantidade: {dados['quantidade']}\")"
      ],
      "metadata": {
        "colab": {
          "base_uri": "https://localhost:8080/"
        },
        "id": "bY86of6a536k",
        "outputId": "dfffd9da-8d4f-4f85-f521-147723140974"
      },
      "execution_count": 37,
      "outputs": [
        {
          "output_type": "stream",
          "name": "stdout",
          "text": [
            "Camiseta: Valor - R$ 29.9 - Quantidade: 50\n",
            "Calça Jeans: Valor - R$ 89.9 - Quantidade: 20\n",
            "Tênis: Valor - R$ 129.9 - Quantidade: 30\n"
          ]
        }
      ]
    },
    {
      "cell_type": "code",
      "source": [
        "# Para exibir todos os dados de apenas um produto:\n",
        "print(f\"Produto: {estoque['produto1']}\")"
      ],
      "metadata": {
        "colab": {
          "base_uri": "https://localhost:8080/"
        },
        "id": "XnB7Fxzp57kc",
        "outputId": "041470c2-82d6-4f7c-d89f-bce9c2ebc2c3"
      },
      "execution_count": 38,
      "outputs": [
        {
          "output_type": "stream",
          "name": "stdout",
          "text": [
            "Produto: {'nome': 'Camiseta', 'preco': 29.9, 'quantidade': 50}\n"
          ]
        }
      ]
    },
    {
      "cell_type": "code",
      "source": [
        "# Para exibir o nome do produto 1\n",
        "print(f\"Produto: {estoque['produto1']['nome']}\")"
      ],
      "metadata": {
        "colab": {
          "base_uri": "https://localhost:8080/"
        },
        "id": "Pa_bjxlO6BRW",
        "outputId": "3fe1b8d2-771a-4b4d-d3bb-25911f1cd80d"
      },
      "execution_count": 39,
      "outputs": [
        {
          "output_type": "stream",
          "name": "stdout",
          "text": [
            "Produto: Camiseta\n"
          ]
        }
      ]
    },
    {
      "cell_type": "markdown",
      "source": [
        "## Crie um laço for para exibir todos os produtos e suas quantidades - Sem o valor"
      ],
      "metadata": {
        "id": "9YpnkT686_EJ"
      }
    },
    {
      "cell_type": "code",
      "source": [
        "for produto, dados in estoque.items():# estoque.items(), é um método que acessa tanto a chave como o valor\n",
        "    print(f\"{dados['nome']}: - Quantidade: {dados['quantidade']}\")"
      ],
      "metadata": {
        "colab": {
          "base_uri": "https://localhost:8080/"
        },
        "id": "NYYSLd_36E_F",
        "outputId": "3cbb8e3e-ca10-4c1c-8084-fca7ba4d4051"
      },
      "execution_count": 40,
      "outputs": [
        {
          "output_type": "stream",
          "name": "stdout",
          "text": [
            "Camiseta: - Quantidade: 50\n",
            "Calça Jeans: - Quantidade: 20\n",
            "Tênis: - Quantidade: 30\n"
          ]
        }
      ]
    },
    {
      "cell_type": "markdown",
      "source": [
        "## Crie uma pequena função para exibir um produto com valor e quantidade.\n",
        "\n",
        "### Exemplo: def exibir_produto(nome_produto):"
      ],
      "metadata": {
        "id": "NTZRrktE68pP"
      }
    },
    {
      "cell_type": "code",
      "source": [
        "def exibir_produto(nome_produto):\n",
        "    if nome_produto in estoque:\n",
        "        produto = estoque[nome_produto]\n",
        "        print(f\"Produto: {produto['nome']} - Valor: R$ {produto['preco']} - Quantidade: {produto['quantidade']}\")\n",
        "    else:\n",
        "        print(\"Produto não encontrado no estoque.\")"
      ],
      "metadata": {
        "id": "46snVNvh6RUe"
      },
      "execution_count": 41,
      "outputs": []
    },
    {
      "cell_type": "markdown",
      "source": [
        "## **12-)** A função map() é uma função embutida em Python que permite aplicar uma função a cada elemento de um iterável (como uma lista, um dicionário ou uma tupla), retornando um objeto iterável com os resultados do mapeamento. Veja um exemplo abaixo:"
      ],
      "metadata": {
        "id": "cPTRVCvW8_W-"
      }
    },
    {
      "cell_type": "code",
      "source": [
        "# Lista de números\n",
        "numeros = [1, 2, 3, 4, 5]\n",
        "\n",
        "# Função para calcular o quadrado de um número\n",
        "def quadrado(x):\n",
        "    return x ** 2\n",
        "\n",
        "# Aplicação do mapeamento para obter uma nova lista com os quadrados dos números\n",
        "quadrados = list(map(quadrado, numeros))\n",
        "\n",
        "# Exibição dos quadrados dos números\n",
        "print(quadrados)"
      ],
      "metadata": {
        "colab": {
          "base_uri": "https://localhost:8080/"
        },
        "id": "WLV5QTrU8zIC",
        "outputId": "4597052c-210a-4616-c11b-ec7e81ba43db"
      },
      "execution_count": 42,
      "outputs": [
        {
          "output_type": "stream",
          "name": "stdout",
          "text": [
            "[1, 4, 9, 16, 25]\n"
          ]
        }
      ]
    },
    {
      "cell_type": "markdown",
      "source": [
        "## Utilize a função map(), para obter o nome do mês a partir do número do mês:"
      ],
      "metadata": {
        "id": "VROmqaXA9I9x"
      }
    },
    {
      "cell_type": "code",
      "source": [
        "meses = [\"janeiro\", \"fevereiro\", \"março\", \"abril\", \"junho\", \"julho\", \"agosto\", \"setembro\", \"outubro\", \"novembro\", \"dezembro\"]\n",
        "\n",
        "def obter_nome_mes(numero_mes):\n",
        "    return meses[numero_mes - 1]\n",
        "\n",
        "    numeros_meses = [1, 2, 3, 4, 5, 6, 7, 8, 9, 10, 11, 12]\n",
        "\n",
        "    nomes_meses = list(map(obter_nome_mes, numeros_meses))"
      ],
      "metadata": {
        "id": "yue9KcQeDvC_"
      },
      "execution_count": 43,
      "outputs": []
    },
    {
      "cell_type": "markdown",
      "source": [
        "## **Parte 3 - Análise de Dados**\n",
        "\n",
        "## Criação de dados aleatórios"
      ],
      "metadata": {
        "id": "EqLHPCs6E2nE"
      }
    },
    {
      "cell_type": "code",
      "source": [
        "import pandas as pd\n",
        "import numpy as np\n",
        "\n",
        "# Lista de produtos\n",
        "produtos = [\"Camiseta\", \"Calça Jeans\", \"Tênis\", \"Boné\", \"Bermuda\"]\n",
        "\n",
        "# Geração de dados aleatórios com numpy\n",
        "precos = np.random.uniform(low=10, high=100, size=len(produtos)).round(2)\n",
        "quantidades = np.random.randint(low=1, high=20, size=len(produtos))\n",
        "totais = precos * quantidades\n",
        "\n",
        "# Criação do DataFrame\n",
        "df = pd.DataFrame({\"Nome do produto\": produtos, \"Preço unitário\": precos, \"Quantidade\": quantidades, \"Total\": totais})\n",
        "\n",
        "# Exibição do DataFrame\n",
        "df"
      ],
      "metadata": {
        "colab": {
          "base_uri": "https://localhost:8080/",
          "height": 206
        },
        "id": "BBnslzaeE8SZ",
        "outputId": "9cd67445-16c2-4ed3-8b2d-5cfbc8e745fa"
      },
      "execution_count": 44,
      "outputs": [
        {
          "output_type": "execute_result",
          "data": {
            "text/plain": [
              "  Nome do produto  Preço unitário  Quantidade    Total\n",
              "0        Camiseta           57.20          12   686.40\n",
              "1     Calça Jeans           22.83           1    22.83\n",
              "2           Tênis           19.47          16   311.52\n",
              "3            Boné           83.52          14  1169.28\n",
              "4         Bermuda           28.38           8   227.04"
            ],
            "text/html": [
              "\n",
              "  <div id=\"df-fc04c8a8-7208-4dc1-8af6-9305a848625a\">\n",
              "    <div class=\"colab-df-container\">\n",
              "      <div>\n",
              "<style scoped>\n",
              "    .dataframe tbody tr th:only-of-type {\n",
              "        vertical-align: middle;\n",
              "    }\n",
              "\n",
              "    .dataframe tbody tr th {\n",
              "        vertical-align: top;\n",
              "    }\n",
              "\n",
              "    .dataframe thead th {\n",
              "        text-align: right;\n",
              "    }\n",
              "</style>\n",
              "<table border=\"1\" class=\"dataframe\">\n",
              "  <thead>\n",
              "    <tr style=\"text-align: right;\">\n",
              "      <th></th>\n",
              "      <th>Nome do produto</th>\n",
              "      <th>Preço unitário</th>\n",
              "      <th>Quantidade</th>\n",
              "      <th>Total</th>\n",
              "    </tr>\n",
              "  </thead>\n",
              "  <tbody>\n",
              "    <tr>\n",
              "      <th>0</th>\n",
              "      <td>Camiseta</td>\n",
              "      <td>57.20</td>\n",
              "      <td>12</td>\n",
              "      <td>686.40</td>\n",
              "    </tr>\n",
              "    <tr>\n",
              "      <th>1</th>\n",
              "      <td>Calça Jeans</td>\n",
              "      <td>22.83</td>\n",
              "      <td>1</td>\n",
              "      <td>22.83</td>\n",
              "    </tr>\n",
              "    <tr>\n",
              "      <th>2</th>\n",
              "      <td>Tênis</td>\n",
              "      <td>19.47</td>\n",
              "      <td>16</td>\n",
              "      <td>311.52</td>\n",
              "    </tr>\n",
              "    <tr>\n",
              "      <th>3</th>\n",
              "      <td>Boné</td>\n",
              "      <td>83.52</td>\n",
              "      <td>14</td>\n",
              "      <td>1169.28</td>\n",
              "    </tr>\n",
              "    <tr>\n",
              "      <th>4</th>\n",
              "      <td>Bermuda</td>\n",
              "      <td>28.38</td>\n",
              "      <td>8</td>\n",
              "      <td>227.04</td>\n",
              "    </tr>\n",
              "  </tbody>\n",
              "</table>\n",
              "</div>\n",
              "      <button class=\"colab-df-convert\" onclick=\"convertToInteractive('df-fc04c8a8-7208-4dc1-8af6-9305a848625a')\"\n",
              "              title=\"Convert this dataframe to an interactive table.\"\n",
              "              style=\"display:none;\">\n",
              "        \n",
              "  <svg xmlns=\"http://www.w3.org/2000/svg\" height=\"24px\"viewBox=\"0 0 24 24\"\n",
              "       width=\"24px\">\n",
              "    <path d=\"M0 0h24v24H0V0z\" fill=\"none\"/>\n",
              "    <path d=\"M18.56 5.44l.94 2.06.94-2.06 2.06-.94-2.06-.94-.94-2.06-.94 2.06-2.06.94zm-11 1L8.5 8.5l.94-2.06 2.06-.94-2.06-.94L8.5 2.5l-.94 2.06-2.06.94zm10 10l.94 2.06.94-2.06 2.06-.94-2.06-.94-.94-2.06-.94 2.06-2.06.94z\"/><path d=\"M17.41 7.96l-1.37-1.37c-.4-.4-.92-.59-1.43-.59-.52 0-1.04.2-1.43.59L10.3 9.45l-7.72 7.72c-.78.78-.78 2.05 0 2.83L4 21.41c.39.39.9.59 1.41.59.51 0 1.02-.2 1.41-.59l7.78-7.78 2.81-2.81c.8-.78.8-2.07 0-2.86zM5.41 20L4 18.59l7.72-7.72 1.47 1.35L5.41 20z\"/>\n",
              "  </svg>\n",
              "      </button>\n",
              "      \n",
              "  <style>\n",
              "    .colab-df-container {\n",
              "      display:flex;\n",
              "      flex-wrap:wrap;\n",
              "      gap: 12px;\n",
              "    }\n",
              "\n",
              "    .colab-df-convert {\n",
              "      background-color: #E8F0FE;\n",
              "      border: none;\n",
              "      border-radius: 50%;\n",
              "      cursor: pointer;\n",
              "      display: none;\n",
              "      fill: #1967D2;\n",
              "      height: 32px;\n",
              "      padding: 0 0 0 0;\n",
              "      width: 32px;\n",
              "    }\n",
              "\n",
              "    .colab-df-convert:hover {\n",
              "      background-color: #E2EBFA;\n",
              "      box-shadow: 0px 1px 2px rgba(60, 64, 67, 0.3), 0px 1px 3px 1px rgba(60, 64, 67, 0.15);\n",
              "      fill: #174EA6;\n",
              "    }\n",
              "\n",
              "    [theme=dark] .colab-df-convert {\n",
              "      background-color: #3B4455;\n",
              "      fill: #D2E3FC;\n",
              "    }\n",
              "\n",
              "    [theme=dark] .colab-df-convert:hover {\n",
              "      background-color: #434B5C;\n",
              "      box-shadow: 0px 1px 3px 1px rgba(0, 0, 0, 0.15);\n",
              "      filter: drop-shadow(0px 1px 2px rgba(0, 0, 0, 0.3));\n",
              "      fill: #FFFFFF;\n",
              "    }\n",
              "  </style>\n",
              "\n",
              "      <script>\n",
              "        const buttonEl =\n",
              "          document.querySelector('#df-fc04c8a8-7208-4dc1-8af6-9305a848625a button.colab-df-convert');\n",
              "        buttonEl.style.display =\n",
              "          google.colab.kernel.accessAllowed ? 'block' : 'none';\n",
              "\n",
              "        async function convertToInteractive(key) {\n",
              "          const element = document.querySelector('#df-fc04c8a8-7208-4dc1-8af6-9305a848625a');\n",
              "          const dataTable =\n",
              "            await google.colab.kernel.invokeFunction('convertToInteractive',\n",
              "                                                     [key], {});\n",
              "          if (!dataTable) return;\n",
              "\n",
              "          const docLinkHtml = 'Like what you see? Visit the ' +\n",
              "            '<a target=\"_blank\" href=https://colab.research.google.com/notebooks/data_table.ipynb>data table notebook</a>'\n",
              "            + ' to learn more about interactive tables.';\n",
              "          element.innerHTML = '';\n",
              "          dataTable['output_type'] = 'display_data';\n",
              "          await google.colab.output.renderOutput(dataTable, element);\n",
              "          const docLink = document.createElement('div');\n",
              "          docLink.innerHTML = docLinkHtml;\n",
              "          element.appendChild(docLink);\n",
              "        }\n",
              "      </script>\n",
              "    </div>\n",
              "  </div>\n",
              "  "
            ]
          },
          "metadata": {},
          "execution_count": 44
        }
      ]
    },
    {
      "cell_type": "markdown",
      "source": [
        "## **Principais comandos:**\n",
        "\n",
        "df.describe() # Estatísticas descritivas das colunas numéricas\n",
        "\n",
        "df.mean() # Média das colunas numéricas\n",
        "\n",
        "df.std() # Desvio padrão das colunas numéricas\n",
        "\n",
        "df.min() # Menor valor de cada coluna\n",
        "\n",
        "df.max() # Maior valor de cada coluna\n",
        "\n",
        "df.idxmin() # Índice do menor valor de cada coluna\n",
        "\n",
        "df.idxmax() # Índice do maior valor de cada coluna\n",
        "\n",
        "## Utilizando os comandos acima, responda:"
      ],
      "metadata": {
        "id": "gz1OFB1wFV_n"
      }
    },
    {
      "cell_type": "markdown",
      "source": [
        "## **13-)** Qual é o produto com o maior preço unitário?"
      ],
      "metadata": {
        "id": "NPWCLzZuFw_x"
      }
    },
    {
      "cell_type": "code",
      "source": [
        "produto_maior_preco = df.loc[df[\"Preço unitário\"].idxmax()]['Nome do produto']\n",
        "print(produto_maior_preco)"
      ],
      "metadata": {
        "colab": {
          "base_uri": "https://localhost:8080/"
        },
        "id": "elGlqeewFNM3",
        "outputId": "a30d76e0-5944-499a-8c05-9d04fe02b324"
      },
      "execution_count": 45,
      "outputs": [
        {
          "output_type": "stream",
          "name": "stdout",
          "text": [
            "Boné\n"
          ]
        }
      ]
    },
    {
      "cell_type": "markdown",
      "source": [
        "## **14-)** Qual é o produto com o maior total de vendas?"
      ],
      "metadata": {
        "id": "FtHvcK2yGrSI"
      }
    },
    {
      "cell_type": "code",
      "source": [
        "produto_mais_vendas = df.loc[df['Total'].idxmax()]['Nome do produto']\n",
        "print(produto_mais_vendas)"
      ],
      "metadata": {
        "colab": {
          "base_uri": "https://localhost:8080/"
        },
        "id": "2X-8lLOxGQ9G",
        "outputId": "1fa5625d-1c0b-4f73-cb18-880754392e39"
      },
      "execution_count": 46,
      "outputs": [
        {
          "output_type": "stream",
          "name": "stdout",
          "text": [
            "Boné\n"
          ]
        }
      ]
    },
    {
      "cell_type": "markdown",
      "source": [
        "## **15-)** Qual é o produto mais vendido?"
      ],
      "metadata": {
        "id": "eH6ABSzLHmYK"
      }
    },
    {
      "cell_type": "code",
      "source": [
        "produto_mais_vendido = df.loc[df[\"Quantidade\"].idxmax()] ['Nome do produto']\n",
        "print(produto_mais_vendido)"
      ],
      "metadata": {
        "colab": {
          "base_uri": "https://localhost:8080/"
        },
        "id": "m_vY1iXEHrtp",
        "outputId": "1856c9e9-0d74-4b22-94ca-2e58ddc8c4b5"
      },
      "execution_count": 47,
      "outputs": [
        {
          "output_type": "stream",
          "name": "stdout",
          "text": [
            "Tênis\n"
          ]
        }
      ]
    },
    {
      "cell_type": "markdown",
      "source": [
        "## **16-)** Qual é o total de vendas da loja?"
      ],
      "metadata": {
        "id": "9b8aWVf4H0BN"
      }
    },
    {
      "cell_type": "code",
      "source": [
        "total_vendas = df[\"Total\"].sum()\n",
        "print(total_vendas)"
      ],
      "metadata": {
        "colab": {
          "base_uri": "https://localhost:8080/"
        },
        "id": "KYu171eUHuU1",
        "outputId": "3a8d0dd4-56b8-456d-e689-3848e78274f8"
      },
      "execution_count": 48,
      "outputs": [
        {
          "output_type": "stream",
          "name": "stdout",
          "text": [
            "2417.07\n"
          ]
        }
      ]
    },
    {
      "cell_type": "markdown",
      "source": [
        "## **17-)** Qual é o preço médio dos produtos vendidos?"
      ],
      "metadata": {
        "id": "i0p_TmMZILbV"
      }
    },
    {
      "cell_type": "code",
      "source": [
        "df[\"Preço unitário\"].mean().round(2)"
      ],
      "metadata": {
        "colab": {
          "base_uri": "https://localhost:8080/"
        },
        "id": "F-0GGGApIBrO",
        "outputId": "214cca03-9757-4b3b-ee48-4ab199a07634"
      },
      "execution_count": 49,
      "outputs": [
        {
          "output_type": "execute_result",
          "data": {
            "text/plain": [
              "42.28"
            ]
          },
          "metadata": {},
          "execution_count": 49
        }
      ]
    },
    {
      "cell_type": "markdown",
      "source": [
        "## **18-)** Crie um nova coluna, chamada \"total com desconto\" e aplique um desconto de 10% do valor total."
      ],
      "metadata": {
        "id": "KPVek6kIIRMz"
      }
    },
    {
      "cell_type": "code",
      "source": [
        "df[\"total com desconto\"] = df[\"Total\"] * 0.9"
      ],
      "metadata": {
        "id": "cB0SV0t0IQCI"
      },
      "execution_count": 50,
      "outputs": []
    },
    {
      "cell_type": "markdown",
      "source": [
        "## Criação de um nova coluna com indicação de produtos em promoção.\n",
        "\n",
        "## Para isso"
      ],
      "metadata": {
        "id": "adAL9AFkIfsE"
      }
    },
    {
      "cell_type": "code",
      "source": [
        "# A função np.where() recebe três argumentos: uma condição booleana, \n",
        "# um valor para quando a condição for verdadeira e um valor para quando \n",
        "# a condição for falsa.\n",
        "df[\"Promoção\"] = np.where(df[\"Preço unitário\"] > 50, \"Sim\", \"Não\")"
      ],
      "metadata": {
        "id": "06M_RGUNIZrE"
      },
      "execution_count": 51,
      "outputs": []
    },
    {
      "cell_type": "code",
      "source": [
        "df"
      ],
      "metadata": {
        "colab": {
          "base_uri": "https://localhost:8080/",
          "height": 206
        },
        "id": "oqLmTWpzI5wW",
        "outputId": "d9ef5424-1700-46d0-d8a4-3b4a5127b0b7"
      },
      "execution_count": 52,
      "outputs": [
        {
          "output_type": "execute_result",
          "data": {
            "text/plain": [
              "  Nome do produto  Preço unitário  Quantidade    Total  total com desconto  \\\n",
              "0        Camiseta           57.20          12   686.40             617.760   \n",
              "1     Calça Jeans           22.83           1    22.83              20.547   \n",
              "2           Tênis           19.47          16   311.52             280.368   \n",
              "3            Boné           83.52          14  1169.28            1052.352   \n",
              "4         Bermuda           28.38           8   227.04             204.336   \n",
              "\n",
              "  Promoção  \n",
              "0      Sim  \n",
              "1      Não  \n",
              "2      Não  \n",
              "3      Sim  \n",
              "4      Não  "
            ],
            "text/html": [
              "\n",
              "  <div id=\"df-9456efc8-bfe0-4cad-841f-df3612507b97\">\n",
              "    <div class=\"colab-df-container\">\n",
              "      <div>\n",
              "<style scoped>\n",
              "    .dataframe tbody tr th:only-of-type {\n",
              "        vertical-align: middle;\n",
              "    }\n",
              "\n",
              "    .dataframe tbody tr th {\n",
              "        vertical-align: top;\n",
              "    }\n",
              "\n",
              "    .dataframe thead th {\n",
              "        text-align: right;\n",
              "    }\n",
              "</style>\n",
              "<table border=\"1\" class=\"dataframe\">\n",
              "  <thead>\n",
              "    <tr style=\"text-align: right;\">\n",
              "      <th></th>\n",
              "      <th>Nome do produto</th>\n",
              "      <th>Preço unitário</th>\n",
              "      <th>Quantidade</th>\n",
              "      <th>Total</th>\n",
              "      <th>total com desconto</th>\n",
              "      <th>Promoção</th>\n",
              "    </tr>\n",
              "  </thead>\n",
              "  <tbody>\n",
              "    <tr>\n",
              "      <th>0</th>\n",
              "      <td>Camiseta</td>\n",
              "      <td>57.20</td>\n",
              "      <td>12</td>\n",
              "      <td>686.40</td>\n",
              "      <td>617.760</td>\n",
              "      <td>Sim</td>\n",
              "    </tr>\n",
              "    <tr>\n",
              "      <th>1</th>\n",
              "      <td>Calça Jeans</td>\n",
              "      <td>22.83</td>\n",
              "      <td>1</td>\n",
              "      <td>22.83</td>\n",
              "      <td>20.547</td>\n",
              "      <td>Não</td>\n",
              "    </tr>\n",
              "    <tr>\n",
              "      <th>2</th>\n",
              "      <td>Tênis</td>\n",
              "      <td>19.47</td>\n",
              "      <td>16</td>\n",
              "      <td>311.52</td>\n",
              "      <td>280.368</td>\n",
              "      <td>Não</td>\n",
              "    </tr>\n",
              "    <tr>\n",
              "      <th>3</th>\n",
              "      <td>Boné</td>\n",
              "      <td>83.52</td>\n",
              "      <td>14</td>\n",
              "      <td>1169.28</td>\n",
              "      <td>1052.352</td>\n",
              "      <td>Sim</td>\n",
              "    </tr>\n",
              "    <tr>\n",
              "      <th>4</th>\n",
              "      <td>Bermuda</td>\n",
              "      <td>28.38</td>\n",
              "      <td>8</td>\n",
              "      <td>227.04</td>\n",
              "      <td>204.336</td>\n",
              "      <td>Não</td>\n",
              "    </tr>\n",
              "  </tbody>\n",
              "</table>\n",
              "</div>\n",
              "      <button class=\"colab-df-convert\" onclick=\"convertToInteractive('df-9456efc8-bfe0-4cad-841f-df3612507b97')\"\n",
              "              title=\"Convert this dataframe to an interactive table.\"\n",
              "              style=\"display:none;\">\n",
              "        \n",
              "  <svg xmlns=\"http://www.w3.org/2000/svg\" height=\"24px\"viewBox=\"0 0 24 24\"\n",
              "       width=\"24px\">\n",
              "    <path d=\"M0 0h24v24H0V0z\" fill=\"none\"/>\n",
              "    <path d=\"M18.56 5.44l.94 2.06.94-2.06 2.06-.94-2.06-.94-.94-2.06-.94 2.06-2.06.94zm-11 1L8.5 8.5l.94-2.06 2.06-.94-2.06-.94L8.5 2.5l-.94 2.06-2.06.94zm10 10l.94 2.06.94-2.06 2.06-.94-2.06-.94-.94-2.06-.94 2.06-2.06.94z\"/><path d=\"M17.41 7.96l-1.37-1.37c-.4-.4-.92-.59-1.43-.59-.52 0-1.04.2-1.43.59L10.3 9.45l-7.72 7.72c-.78.78-.78 2.05 0 2.83L4 21.41c.39.39.9.59 1.41.59.51 0 1.02-.2 1.41-.59l7.78-7.78 2.81-2.81c.8-.78.8-2.07 0-2.86zM5.41 20L4 18.59l7.72-7.72 1.47 1.35L5.41 20z\"/>\n",
              "  </svg>\n",
              "      </button>\n",
              "      \n",
              "  <style>\n",
              "    .colab-df-container {\n",
              "      display:flex;\n",
              "      flex-wrap:wrap;\n",
              "      gap: 12px;\n",
              "    }\n",
              "\n",
              "    .colab-df-convert {\n",
              "      background-color: #E8F0FE;\n",
              "      border: none;\n",
              "      border-radius: 50%;\n",
              "      cursor: pointer;\n",
              "      display: none;\n",
              "      fill: #1967D2;\n",
              "      height: 32px;\n",
              "      padding: 0 0 0 0;\n",
              "      width: 32px;\n",
              "    }\n",
              "\n",
              "    .colab-df-convert:hover {\n",
              "      background-color: #E2EBFA;\n",
              "      box-shadow: 0px 1px 2px rgba(60, 64, 67, 0.3), 0px 1px 3px 1px rgba(60, 64, 67, 0.15);\n",
              "      fill: #174EA6;\n",
              "    }\n",
              "\n",
              "    [theme=dark] .colab-df-convert {\n",
              "      background-color: #3B4455;\n",
              "      fill: #D2E3FC;\n",
              "    }\n",
              "\n",
              "    [theme=dark] .colab-df-convert:hover {\n",
              "      background-color: #434B5C;\n",
              "      box-shadow: 0px 1px 3px 1px rgba(0, 0, 0, 0.15);\n",
              "      filter: drop-shadow(0px 1px 2px rgba(0, 0, 0, 0.3));\n",
              "      fill: #FFFFFF;\n",
              "    }\n",
              "  </style>\n",
              "\n",
              "      <script>\n",
              "        const buttonEl =\n",
              "          document.querySelector('#df-9456efc8-bfe0-4cad-841f-df3612507b97 button.colab-df-convert');\n",
              "        buttonEl.style.display =\n",
              "          google.colab.kernel.accessAllowed ? 'block' : 'none';\n",
              "\n",
              "        async function convertToInteractive(key) {\n",
              "          const element = document.querySelector('#df-9456efc8-bfe0-4cad-841f-df3612507b97');\n",
              "          const dataTable =\n",
              "            await google.colab.kernel.invokeFunction('convertToInteractive',\n",
              "                                                     [key], {});\n",
              "          if (!dataTable) return;\n",
              "\n",
              "          const docLinkHtml = 'Like what you see? Visit the ' +\n",
              "            '<a target=\"_blank\" href=https://colab.research.google.com/notebooks/data_table.ipynb>data table notebook</a>'\n",
              "            + ' to learn more about interactive tables.';\n",
              "          element.innerHTML = '';\n",
              "          dataTable['output_type'] = 'display_data';\n",
              "          await google.colab.output.renderOutput(dataTable, element);\n",
              "          const docLink = document.createElement('div');\n",
              "          docLink.innerHTML = docLinkHtml;\n",
              "          element.appendChild(docLink);\n",
              "        }\n",
              "      </script>\n",
              "    </div>\n",
              "  </div>\n",
              "  "
            ]
          },
          "metadata": {},
          "execution_count": 52
        }
      ]
    },
    {
      "cell_type": "markdown",
      "source": [
        "## **19-)** Crie um gráfico utilizando o seaborn de um gráfico de barras com os totais por produto:"
      ],
      "metadata": {
        "id": "eyzvgv8jI_K0"
      }
    },
    {
      "cell_type": "code",
      "source": [
        "import seaborn as sns\n",
        "import matplotlib.pyplot as plt\n",
        "\n",
        "sns.set_style(\"whitegrid\")\n",
        "sns.barplot(data=df, x=\"Nome do produto\", y=\"Total\")\n",
        "plt.show()"
      ],
      "metadata": {
        "colab": {
          "base_uri": "https://localhost:8080/",
          "height": 449
        },
        "id": "qbKV1CopI7Zv",
        "outputId": "cd3c4fa3-ed14-4d1d-97bc-6e9039122f05"
      },
      "execution_count": 53,
      "outputs": [
        {
          "output_type": "display_data",
          "data": {
            "text/plain": [
              "<Figure size 640x480 with 1 Axes>"
            ],
            "image/png": "[encoded data removed]"
          },
          "metadata": {}
        }
      ]
    },
    {
      "cell_type": "markdown",
      "source": [
        "## **20-)** Crie um gráfico utilizando o seaborn de um gráfico de barras com os totais por promoção.\n",
        "\n",
        "## De acordo com o gráfico a seguir:"
      ],
      "metadata": {
        "id": "z8xY9vIlJJ_p"
      }
    },
    {
      "cell_type": "code",
      "source": [
        "agrupando_Promocao_Total = df.groupby('Promoção')['Total'].sum().reset_index()\n",
        "agrupando_Promocao_Total = agrupando_Promocao_Total.sort_values(by = 'Total', ascending = False)\n",
        "Figura = sns.color_palette('gnuplot')\n",
        "ax = sns.barplot(x = 'Promoção',y = 'Total', data = agrupando_Promocao_Total, palette = Figura)\n",
        "ax.set_xticklabels(ax.get_xticklabels(), fontsize=12, rotation=45, ha='right')"
      ],
      "metadata": {
        "id": "n9oYMZi-JG8d",
        "colab": {
          "base_uri": "https://localhost:8080/",
          "height": 488
        },
        "outputId": "8b570aff-c785-4881-f7fe-cae7b16c8ff7"
      },
      "execution_count": 54,
      "outputs": [
        {
          "output_type": "execute_result",
          "data": {
            "text/plain": [
              "[Text(0, 0, 'Sim'), Text(1, 0, 'Não')]"
            ]
          },
          "metadata": {},
          "execution_count": 54
        },
        {
          "output_type": "display_data",
          "data": {
            "text/plain": [
              "<Figure size 640x480 with 1 Axes>"
            ],
            "image/png": "[encoded data removed]"
          },
          "metadata": {}
        }
      ]
    },
    {
      "cell_type": "markdown",
      "source": [
        "## **21-)** Ao Final crie um arquivo SQL dos dados criados e manipulados em que possa ser carregado pelo Postgree:"
      ],
      "metadata": {
        "id": "vRNhsv5X3WUU"
      }
    },
    {
      "cell_type": "code",
      "source": [
        "from sqlalchemy import create_engine, text"
      ],
      "metadata": {
        "id": "D0Fe4ObMw1MM"
      },
      "execution_count": 55,
      "outputs": []
    },
    {
      "cell_type": "code",
      "source": [
        "engine = create_engine('sqlite:///:memory:')"
      ],
      "metadata": {
        "id": "dRUV5xVYw5b3"
      },
      "execution_count": 56,
      "outputs": []
    },
    {
      "cell_type": "code",
      "source": [
        "df.to_sql('primeira_prática', con = engine, if_exists = \"replace\")"
      ],
      "metadata": {
        "colab": {
          "base_uri": "https://localhost:8080/"
        },
        "id": "aO0W9iF5M-_X",
        "outputId": "8f20d318-a11a-4538-e0f4-bfdd31103c89"
      },
      "execution_count": 57,
      "outputs": [
        {
          "output_type": "execute_result",
          "data": {
            "text/plain": [
              "5"
            ]
          },
          "metadata": {},
          "execution_count": 57
        }
      ]
    },
    {
      "cell_type": "code",
      "source": [
        "with open(\"atividade_revisao.sql\", \"w\") as file:\n",
        "  for line in engine.raw_connection().connection.iterdump():\n",
        "   file.write(f\"{line}\\n\")"
      ],
      "metadata": {
        "id": "vdW2Nxom54P9"
      },
      "execution_count": 59,
      "outputs": []
    }
  ]
}